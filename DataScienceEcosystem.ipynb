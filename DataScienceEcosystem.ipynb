{
  "metadata": {
    "kernelspec": {
      "name": "python",
      "display_name": "Python (Pyodide)",
      "language": "python"
    },
    "language_info": {
      "codemirror_mode": {
        "name": "python",
        "version": 3
      },
      "file_extension": ".py",
      "mimetype": "text/x-python",
      "name": "python",
      "nbconvert_exporter": "python",
      "pygments_lexer": "ipython3",
      "version": "3.8"
    }
  },
  "nbformat_minor": 5,
  "nbformat": 4,
  "cells": [
    {
      "id": "9ef6bbf4-2d0e-4557-8b28-e971f7b525dc",
      "cell_type": "markdown",
      "source": "# Data science tools and ecosystem ",
      "metadata": {}
    },
    {
      "id": "53aa15a9-7dff-46b4-b7f1-e7591ef30d3a",
      "cell_type": "markdown",
      "source": "**Objectives:**\n\n- List popular languages for Data Science  \n- List commonly used libraries in Data Science  \n- Create tables using markdown cells  \n- Perform arithmetic operations using code cells  \n- Convert minutes to hours in Python",
      "metadata": {}
    },
    {
      "id": "2dee173f-ec00-48cc-90a7-eb93deabe55f",
      "cell_type": "markdown",
      "source": "In this notebook, Data Science Tools and Ecosystem are summarized.",
      "metadata": {}
    },
    {
      "id": "7d4dca13-468a-42a1-a83a-b56a90f0bc5c",
      "cell_type": "markdown",
      "source": "Some of the popular languages that Data Scientists use are:\n1. Python\n2. R\n3. SQL",
      "metadata": {}
    },
    {
      "id": "aff3dea4-aa98-4fdb-ba79-f9004716a031",
      "cell_type": "code",
      "source": "Some of the commonly used libraries used by Data Scientists include: \n1. Panda\n2. Numphy\n3. Matplotlib",
      "metadata": {
        "trusted": true
      },
      "outputs": [],
      "execution_count": null
    },
    {
      "id": "7837a8f1-5d38-47f3-a178-4dd92ae030d2",
      "cell_type": "markdown",
      "source": "| Data Science Tools         |\n|----------------------------|\n| Jupyter Notebook           |\n| RStudio                    |\n| Apache Zeppelin            |\n\n",
      "metadata": {}
    },
    {
      "id": "a059cbb8-f331-4daa-b72d-4d6eddab8b7d",
      "cell_type": "markdown",
      "source": "### Below are a few examples of evaluating arithmetic expressions in Python ",
      "metadata": {}
    },
    {
      "id": "658ecb4d-be8e-4df8-9c03-144b711e78ef",
      "cell_type": "code",
      "source": "# This is a simple arithmetic expression to multiply then add integers\n(3 * 4) + 5\n",
      "metadata": {
        "trusted": true
      },
      "outputs": [
        {
          "execution_count": 10,
          "output_type": "execute_result",
          "data": {
            "text/plain": "17"
          },
          "metadata": {}
        }
      ],
      "execution_count": 10
    },
    {
      "id": "a92cc0a1-4d35-4911-b1c0-90f70cbbe159",
      "cell_type": "code",
      "source": "# This will convert 200 minutes to hours by dividing by 60\n200 / 60\n",
      "metadata": {
        "trusted": true
      },
      "outputs": [
        {
          "execution_count": 13,
          "output_type": "execute_result",
          "data": {
            "text/plain": "3.3333333333333335"
          },
          "metadata": {}
        }
      ],
      "execution_count": 13
    },
    {
      "id": "900200ec-bd4d-4301-97ff-5c8011d67de2",
      "cell_type": "markdown",
      "source": "## Author\n\nMamunur Emad ",
      "metadata": {}
    },
    {
      "id": "b1c3666b-1326-4794-8b4a-0df324179dc8",
      "cell_type": "code",
      "source": "",
      "metadata": {
        "trusted": true
      },
      "outputs": [],
      "execution_count": null
    }
  ]
}